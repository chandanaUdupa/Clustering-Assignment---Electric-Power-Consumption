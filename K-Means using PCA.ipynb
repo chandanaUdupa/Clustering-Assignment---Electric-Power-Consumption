{
 "cells": [
  {
   "cell_type": "markdown",
   "metadata": {},
   "source": [
    "# Energy Usage"
   ]
  },
  {
   "cell_type": "markdown",
   "metadata": {},
   "source": [
    "### Import Datasets"
   ]
  },
  {
   "cell_type": "code",
   "execution_count": 50,
   "metadata": {},
   "outputs": [],
   "source": [
    "import pandas as pd\n",
    "import seaborn as sns; sns.set()\n",
    "elec_usage_data = pd.read_csv(\"pc_data.csv\")"
   ]
  },
  {
   "cell_type": "code",
   "execution_count": 51,
   "metadata": {},
   "outputs": [
    {
     "data": {
      "text/html": [
       "<div>\n",
       "<style scoped>\n",
       "    .dataframe tbody tr th:only-of-type {\n",
       "        vertical-align: middle;\n",
       "    }\n",
       "\n",
       "    .dataframe tbody tr th {\n",
       "        vertical-align: top;\n",
       "    }\n",
       "\n",
       "    .dataframe thead th {\n",
       "        text-align: right;\n",
       "    }\n",
       "</style>\n",
       "<table border=\"1\" class=\"dataframe\">\n",
       "  <thead>\n",
       "    <tr style=\"text-align: right;\">\n",
       "      <th></th>\n",
       "      <th>EPC1</th>\n",
       "      <th>EPC2</th>\n",
       "      <th>EPC3</th>\n",
       "      <th>Usage</th>\n",
       "      <th>Payment</th>\n",
       "      <th>Calls</th>\n",
       "      <th>Region</th>\n",
       "      <th>Age</th>\n",
       "    </tr>\n",
       "  </thead>\n",
       "  <tbody>\n",
       "    <tr>\n",
       "      <td>0</td>\n",
       "      <td>50</td>\n",
       "      <td>67</td>\n",
       "      <td>25</td>\n",
       "      <td>0.86</td>\n",
       "      <td>1</td>\n",
       "      <td>3</td>\n",
       "      <td>North</td>\n",
       "      <td>25</td>\n",
       "    </tr>\n",
       "    <tr>\n",
       "      <td>1</td>\n",
       "      <td>45</td>\n",
       "      <td>78</td>\n",
       "      <td>47</td>\n",
       "      <td>0.94</td>\n",
       "      <td>0</td>\n",
       "      <td>1</td>\n",
       "      <td>Center</td>\n",
       "      <td>13</td>\n",
       "    </tr>\n",
       "    <tr>\n",
       "      <td>2</td>\n",
       "      <td>47</td>\n",
       "      <td>71</td>\n",
       "      <td>33</td>\n",
       "      <td>0.91</td>\n",
       "      <td>0</td>\n",
       "      <td>2</td>\n",
       "      <td>Center</td>\n",
       "      <td>20</td>\n",
       "    </tr>\n",
       "    <tr>\n",
       "      <td>3</td>\n",
       "      <td>42</td>\n",
       "      <td>73</td>\n",
       "      <td>54</td>\n",
       "      <td>0.94</td>\n",
       "      <td>0</td>\n",
       "      <td>1</td>\n",
       "      <td>Center</td>\n",
       "      <td>18</td>\n",
       "    </tr>\n",
       "    <tr>\n",
       "      <td>4</td>\n",
       "      <td>36</td>\n",
       "      <td>65</td>\n",
       "      <td>32</td>\n",
       "      <td>0.94</td>\n",
       "      <td>0</td>\n",
       "      <td>2</td>\n",
       "      <td>North</td>\n",
       "      <td>21</td>\n",
       "    </tr>\n",
       "  </tbody>\n",
       "</table>\n",
       "</div>"
      ],
      "text/plain": [
       "   EPC1  EPC2  EPC3  Usage  Payment  Calls  Region  Age\n",
       "0    50    67    25   0.86        1      3   North   25\n",
       "1    45    78    47   0.94        0      1  Center   13\n",
       "2    47    71    33   0.91        0      2  Center   20\n",
       "3    42    73    54   0.94        0      1  Center   18\n",
       "4    36    65    32   0.94        0      2   North   21"
      ]
     },
     "execution_count": 51,
     "metadata": {},
     "output_type": "execute_result"
    }
   ],
   "source": [
    "elec_usage_data.head()"
   ]
  },
  {
   "cell_type": "code",
   "execution_count": 52,
   "metadata": {},
   "outputs": [
    {
     "data": {
      "text/plain": [
       "(1000, 8)"
      ]
     },
     "execution_count": 52,
     "metadata": {},
     "output_type": "execute_result"
    }
   ],
   "source": [
    "elec_usage_data.shape #n_samples=150, n_features=2"
   ]
  },
  {
   "cell_type": "markdown",
   "metadata": {},
   "source": [
    "### Check for Duplicates"
   ]
  },
  {
   "cell_type": "code",
   "execution_count": 53,
   "metadata": {},
   "outputs": [
    {
     "data": {
      "text/html": [
       "<div>\n",
       "<style scoped>\n",
       "    .dataframe tbody tr th:only-of-type {\n",
       "        vertical-align: middle;\n",
       "    }\n",
       "\n",
       "    .dataframe tbody tr th {\n",
       "        vertical-align: top;\n",
       "    }\n",
       "\n",
       "    .dataframe thead th {\n",
       "        text-align: right;\n",
       "    }\n",
       "</style>\n",
       "<table border=\"1\" class=\"dataframe\">\n",
       "  <thead>\n",
       "    <tr style=\"text-align: right;\">\n",
       "      <th></th>\n",
       "      <th>EPC1</th>\n",
       "      <th>EPC2</th>\n",
       "      <th>EPC3</th>\n",
       "      <th>Usage</th>\n",
       "      <th>Payment</th>\n",
       "      <th>Calls</th>\n",
       "      <th>Region</th>\n",
       "      <th>Age</th>\n",
       "    </tr>\n",
       "  </thead>\n",
       "  <tbody>\n",
       "  </tbody>\n",
       "</table>\n",
       "</div>"
      ],
      "text/plain": [
       "Empty DataFrame\n",
       "Columns: [EPC1, EPC2, EPC3, Usage, Payment, Calls, Region, Age]\n",
       "Index: []"
      ]
     },
     "execution_count": 53,
     "metadata": {},
     "output_type": "execute_result"
    }
   ],
   "source": [
    "elec_usage_data[elec_usage_data.duplicated()]"
   ]
  },
  {
   "cell_type": "markdown",
   "metadata": {},
   "source": [
    "There is no duplicated Data"
   ]
  },
  {
   "cell_type": "markdown",
   "metadata": {},
   "source": [
    "### Check for Missing Values"
   ]
  },
  {
   "cell_type": "code",
   "execution_count": 54,
   "metadata": {},
   "outputs": [
    {
     "name": "stdout",
     "output_type": "stream",
     "text": [
      "Amount of rows with missing values: 0\n"
     ]
    }
   ],
   "source": [
    "#check for missing values\n",
    "temp = pd.DataFrame(elec_usage_data.isnull().sum())\n",
    "temp.columns = ['Sum']\n",
    "print('Amount of rows with missing values: ' + str(len(temp.index[temp['Sum'] > 0])) )"
   ]
  },
  {
   "cell_type": "markdown",
   "metadata": {},
   "source": [
    "No missing Values"
   ]
  },
  {
   "cell_type": "markdown",
   "metadata": {},
   "source": [
    "### Convert categorical to numerical"
   ]
  },
  {
   "cell_type": "code",
   "execution_count": 55,
   "metadata": {},
   "outputs": [
    {
     "data": {
      "text/html": [
       "<div>\n",
       "<style scoped>\n",
       "    .dataframe tbody tr th:only-of-type {\n",
       "        vertical-align: middle;\n",
       "    }\n",
       "\n",
       "    .dataframe tbody tr th {\n",
       "        vertical-align: top;\n",
       "    }\n",
       "\n",
       "    .dataframe thead th {\n",
       "        text-align: right;\n",
       "    }\n",
       "</style>\n",
       "<table border=\"1\" class=\"dataframe\">\n",
       "  <thead>\n",
       "    <tr style=\"text-align: right;\">\n",
       "      <th></th>\n",
       "      <th>EPC1</th>\n",
       "      <th>EPC2</th>\n",
       "      <th>EPC3</th>\n",
       "      <th>Usage</th>\n",
       "      <th>Payment</th>\n",
       "      <th>Calls</th>\n",
       "      <th>Age</th>\n",
       "      <th>Region_Center</th>\n",
       "      <th>Region_North</th>\n",
       "      <th>Region_South</th>\n",
       "    </tr>\n",
       "  </thead>\n",
       "  <tbody>\n",
       "    <tr>\n",
       "      <td>0</td>\n",
       "      <td>50</td>\n",
       "      <td>67</td>\n",
       "      <td>25</td>\n",
       "      <td>0.86</td>\n",
       "      <td>1</td>\n",
       "      <td>3</td>\n",
       "      <td>25</td>\n",
       "      <td>0</td>\n",
       "      <td>1</td>\n",
       "      <td>0</td>\n",
       "    </tr>\n",
       "    <tr>\n",
       "      <td>1</td>\n",
       "      <td>45</td>\n",
       "      <td>78</td>\n",
       "      <td>47</td>\n",
       "      <td>0.94</td>\n",
       "      <td>0</td>\n",
       "      <td>1</td>\n",
       "      <td>13</td>\n",
       "      <td>1</td>\n",
       "      <td>0</td>\n",
       "      <td>0</td>\n",
       "    </tr>\n",
       "    <tr>\n",
       "      <td>2</td>\n",
       "      <td>47</td>\n",
       "      <td>71</td>\n",
       "      <td>33</td>\n",
       "      <td>0.91</td>\n",
       "      <td>0</td>\n",
       "      <td>2</td>\n",
       "      <td>20</td>\n",
       "      <td>1</td>\n",
       "      <td>0</td>\n",
       "      <td>0</td>\n",
       "    </tr>\n",
       "    <tr>\n",
       "      <td>3</td>\n",
       "      <td>42</td>\n",
       "      <td>73</td>\n",
       "      <td>54</td>\n",
       "      <td>0.94</td>\n",
       "      <td>0</td>\n",
       "      <td>1</td>\n",
       "      <td>18</td>\n",
       "      <td>1</td>\n",
       "      <td>0</td>\n",
       "      <td>0</td>\n",
       "    </tr>\n",
       "    <tr>\n",
       "      <td>4</td>\n",
       "      <td>36</td>\n",
       "      <td>65</td>\n",
       "      <td>32</td>\n",
       "      <td>0.94</td>\n",
       "      <td>0</td>\n",
       "      <td>2</td>\n",
       "      <td>21</td>\n",
       "      <td>0</td>\n",
       "      <td>1</td>\n",
       "      <td>0</td>\n",
       "    </tr>\n",
       "  </tbody>\n",
       "</table>\n",
       "</div>"
      ],
      "text/plain": [
       "   EPC1  EPC2  EPC3  Usage  Payment  Calls  Age  Region_Center  Region_North  \\\n",
       "0    50    67    25   0.86        1      3   25              0             1   \n",
       "1    45    78    47   0.94        0      1   13              1             0   \n",
       "2    47    71    33   0.91        0      2   20              1             0   \n",
       "3    42    73    54   0.94        0      1   18              1             0   \n",
       "4    36    65    32   0.94        0      2   21              0             1   \n",
       "\n",
       "   Region_South  \n",
       "0             0  \n",
       "1             0  \n",
       "2             0  \n",
       "3             0  \n",
       "4             0  "
      ]
     },
     "execution_count": 55,
     "metadata": {},
     "output_type": "execute_result"
    }
   ],
   "source": [
    "#elec_usage_data  = elec_usage_data.merge(region_df, left_index=True)\n",
    "elec_usage_data = pd.get_dummies(elec_usage_data) \n",
    "elec_usage_data.head()"
   ]
  },
  {
   "cell_type": "markdown",
   "metadata": {},
   "source": [
    "### Create new variables"
   ]
  },
  {
   "cell_type": "markdown",
   "metadata": {},
   "source": [
    "Two new variables will be added:\n",
    "a) Total EPC\n",
    "b) Averange EPC"
   ]
  },
  {
   "cell_type": "code",
   "execution_count": 56,
   "metadata": {},
   "outputs": [
    {
     "data": {
      "text/html": [
       "<div>\n",
       "<style scoped>\n",
       "    .dataframe tbody tr th:only-of-type {\n",
       "        vertical-align: middle;\n",
       "    }\n",
       "\n",
       "    .dataframe tbody tr th {\n",
       "        vertical-align: top;\n",
       "    }\n",
       "\n",
       "    .dataframe thead th {\n",
       "        text-align: right;\n",
       "    }\n",
       "</style>\n",
       "<table border=\"1\" class=\"dataframe\">\n",
       "  <thead>\n",
       "    <tr style=\"text-align: right;\">\n",
       "      <th></th>\n",
       "      <th>EPC1</th>\n",
       "      <th>EPC2</th>\n",
       "      <th>EPC3</th>\n",
       "      <th>Usage</th>\n",
       "      <th>Payment</th>\n",
       "      <th>Calls</th>\n",
       "      <th>Age</th>\n",
       "      <th>Region_Center</th>\n",
       "      <th>Region_North</th>\n",
       "      <th>Region_South</th>\n",
       "      <th>Average EPC</th>\n",
       "      <th>Total EPC</th>\n",
       "    </tr>\n",
       "  </thead>\n",
       "  <tbody>\n",
       "    <tr>\n",
       "      <td>0</td>\n",
       "      <td>50</td>\n",
       "      <td>67</td>\n",
       "      <td>25</td>\n",
       "      <td>0.86</td>\n",
       "      <td>1</td>\n",
       "      <td>3</td>\n",
       "      <td>25</td>\n",
       "      <td>0</td>\n",
       "      <td>1</td>\n",
       "      <td>0</td>\n",
       "      <td>47.3</td>\n",
       "      <td>142</td>\n",
       "    </tr>\n",
       "    <tr>\n",
       "      <td>1</td>\n",
       "      <td>45</td>\n",
       "      <td>78</td>\n",
       "      <td>47</td>\n",
       "      <td>0.94</td>\n",
       "      <td>0</td>\n",
       "      <td>1</td>\n",
       "      <td>13</td>\n",
       "      <td>1</td>\n",
       "      <td>0</td>\n",
       "      <td>0</td>\n",
       "      <td>56.7</td>\n",
       "      <td>170</td>\n",
       "    </tr>\n",
       "    <tr>\n",
       "      <td>2</td>\n",
       "      <td>47</td>\n",
       "      <td>71</td>\n",
       "      <td>33</td>\n",
       "      <td>0.91</td>\n",
       "      <td>0</td>\n",
       "      <td>2</td>\n",
       "      <td>20</td>\n",
       "      <td>1</td>\n",
       "      <td>0</td>\n",
       "      <td>0</td>\n",
       "      <td>50.3</td>\n",
       "      <td>151</td>\n",
       "    </tr>\n",
       "    <tr>\n",
       "      <td>3</td>\n",
       "      <td>42</td>\n",
       "      <td>73</td>\n",
       "      <td>54</td>\n",
       "      <td>0.94</td>\n",
       "      <td>0</td>\n",
       "      <td>1</td>\n",
       "      <td>18</td>\n",
       "      <td>1</td>\n",
       "      <td>0</td>\n",
       "      <td>0</td>\n",
       "      <td>56.3</td>\n",
       "      <td>169</td>\n",
       "    </tr>\n",
       "    <tr>\n",
       "      <td>4</td>\n",
       "      <td>36</td>\n",
       "      <td>65</td>\n",
       "      <td>32</td>\n",
       "      <td>0.94</td>\n",
       "      <td>0</td>\n",
       "      <td>2</td>\n",
       "      <td>21</td>\n",
       "      <td>0</td>\n",
       "      <td>1</td>\n",
       "      <td>0</td>\n",
       "      <td>44.3</td>\n",
       "      <td>133</td>\n",
       "    </tr>\n",
       "    <tr>\n",
       "      <td>...</td>\n",
       "      <td>...</td>\n",
       "      <td>...</td>\n",
       "      <td>...</td>\n",
       "      <td>...</td>\n",
       "      <td>...</td>\n",
       "      <td>...</td>\n",
       "      <td>...</td>\n",
       "      <td>...</td>\n",
       "      <td>...</td>\n",
       "      <td>...</td>\n",
       "      <td>...</td>\n",
       "      <td>...</td>\n",
       "    </tr>\n",
       "    <tr>\n",
       "      <td>995</td>\n",
       "      <td>39</td>\n",
       "      <td>61</td>\n",
       "      <td>30</td>\n",
       "      <td>0.71</td>\n",
       "      <td>0</td>\n",
       "      <td>2</td>\n",
       "      <td>32</td>\n",
       "      <td>0</td>\n",
       "      <td>1</td>\n",
       "      <td>0</td>\n",
       "      <td>43.3</td>\n",
       "      <td>130</td>\n",
       "    </tr>\n",
       "    <tr>\n",
       "      <td>996</td>\n",
       "      <td>39</td>\n",
       "      <td>62</td>\n",
       "      <td>37</td>\n",
       "      <td>0.72</td>\n",
       "      <td>0</td>\n",
       "      <td>1</td>\n",
       "      <td>45</td>\n",
       "      <td>0</td>\n",
       "      <td>0</td>\n",
       "      <td>1</td>\n",
       "      <td>46.0</td>\n",
       "      <td>138</td>\n",
       "    </tr>\n",
       "    <tr>\n",
       "      <td>997</td>\n",
       "      <td>39</td>\n",
       "      <td>62</td>\n",
       "      <td>30</td>\n",
       "      <td>0.73</td>\n",
       "      <td>0</td>\n",
       "      <td>1</td>\n",
       "      <td>29</td>\n",
       "      <td>0</td>\n",
       "      <td>1</td>\n",
       "      <td>0</td>\n",
       "      <td>43.7</td>\n",
       "      <td>131</td>\n",
       "    </tr>\n",
       "    <tr>\n",
       "      <td>998</td>\n",
       "      <td>40</td>\n",
       "      <td>61</td>\n",
       "      <td>40</td>\n",
       "      <td>0.75</td>\n",
       "      <td>0</td>\n",
       "      <td>1</td>\n",
       "      <td>32</td>\n",
       "      <td>0</td>\n",
       "      <td>0</td>\n",
       "      <td>1</td>\n",
       "      <td>47.0</td>\n",
       "      <td>141</td>\n",
       "    </tr>\n",
       "    <tr>\n",
       "      <td>999</td>\n",
       "      <td>40</td>\n",
       "      <td>62</td>\n",
       "      <td>42</td>\n",
       "      <td>0.79</td>\n",
       "      <td>0</td>\n",
       "      <td>2</td>\n",
       "      <td>40</td>\n",
       "      <td>0</td>\n",
       "      <td>0</td>\n",
       "      <td>1</td>\n",
       "      <td>48.0</td>\n",
       "      <td>144</td>\n",
       "    </tr>\n",
       "  </tbody>\n",
       "</table>\n",
       "<p>1000 rows × 12 columns</p>\n",
       "</div>"
      ],
      "text/plain": [
       "     EPC1  EPC2  EPC3  Usage  Payment  Calls  Age  Region_Center  \\\n",
       "0      50    67    25   0.86        1      3   25              0   \n",
       "1      45    78    47   0.94        0      1   13              1   \n",
       "2      47    71    33   0.91        0      2   20              1   \n",
       "3      42    73    54   0.94        0      1   18              1   \n",
       "4      36    65    32   0.94        0      2   21              0   \n",
       "..    ...   ...   ...    ...      ...    ...  ...            ...   \n",
       "995    39    61    30   0.71        0      2   32              0   \n",
       "996    39    62    37   0.72        0      1   45              0   \n",
       "997    39    62    30   0.73        0      1   29              0   \n",
       "998    40    61    40   0.75        0      1   32              0   \n",
       "999    40    62    42   0.79        0      2   40              0   \n",
       "\n",
       "     Region_North  Region_South  Average EPC  Total EPC  \n",
       "0               1             0         47.3        142  \n",
       "1               0             0         56.7        170  \n",
       "2               0             0         50.3        151  \n",
       "3               0             0         56.3        169  \n",
       "4               1             0         44.3        133  \n",
       "..            ...           ...          ...        ...  \n",
       "995             1             0         43.3        130  \n",
       "996             0             1         46.0        138  \n",
       "997             1             0         43.7        131  \n",
       "998             0             1         47.0        141  \n",
       "999             0             1         48.0        144  \n",
       "\n",
       "[1000 rows x 12 columns]"
      ]
     },
     "execution_count": 56,
     "metadata": {},
     "output_type": "execute_result"
    }
   ],
   "source": [
    "elec_usage_data['Average EPC'] = round(elec_usage_data[[\"EPC1\",\"EPC2\", \"EPC3\"]].mean(axis=1), 1)\n",
    "elec_usage_data['Total EPC'] = elec_usage_data[[\"EPC1\",\"EPC2\", \"EPC3\"]].sum(axis=1)\n",
    "\n",
    "elec_usage_data"
   ]
  },
  {
   "cell_type": "code",
   "execution_count": 57,
   "metadata": {},
   "outputs": [
    {
     "data": {
      "text/html": [
       "<div>\n",
       "<style scoped>\n",
       "    .dataframe tbody tr th:only-of-type {\n",
       "        vertical-align: middle;\n",
       "    }\n",
       "\n",
       "    .dataframe tbody tr th {\n",
       "        vertical-align: top;\n",
       "    }\n",
       "\n",
       "    .dataframe thead th {\n",
       "        text-align: right;\n",
       "    }\n",
       "</style>\n",
       "<table border=\"1\" class=\"dataframe\">\n",
       "  <thead>\n",
       "    <tr style=\"text-align: right;\">\n",
       "      <th></th>\n",
       "      <th>EPC1</th>\n",
       "      <th>EPC2</th>\n",
       "      <th>EPC3</th>\n",
       "      <th>Usage</th>\n",
       "      <th>Payment</th>\n",
       "      <th>Calls</th>\n",
       "      <th>Age</th>\n",
       "      <th>Region_Center</th>\n",
       "      <th>Region_North</th>\n",
       "      <th>Region_South</th>\n",
       "      <th>Average EPC</th>\n",
       "      <th>Total EPC</th>\n",
       "    </tr>\n",
       "  </thead>\n",
       "  <tbody>\n",
       "    <tr>\n",
       "      <td>EPC1</td>\n",
       "      <td>1.000000</td>\n",
       "      <td>-0.188828</td>\n",
       "      <td>0.681828</td>\n",
       "      <td>0.459152</td>\n",
       "      <td>-0.218100</td>\n",
       "      <td>0.025520</td>\n",
       "      <td>-0.057485</td>\n",
       "      <td>0.078595</td>\n",
       "      <td>-0.145914</td>\n",
       "      <td>0.083961</td>\n",
       "      <td>0.587361</td>\n",
       "      <td>0.587394</td>\n",
       "    </tr>\n",
       "    <tr>\n",
       "      <td>EPC2</td>\n",
       "      <td>-0.188828</td>\n",
       "      <td>1.000000</td>\n",
       "      <td>-0.298256</td>\n",
       "      <td>-0.019484</td>\n",
       "      <td>-0.235279</td>\n",
       "      <td>-0.600315</td>\n",
       "      <td>0.215872</td>\n",
       "      <td>-0.015619</td>\n",
       "      <td>-0.012884</td>\n",
       "      <td>0.029619</td>\n",
       "      <td>0.606105</td>\n",
       "      <td>0.606105</td>\n",
       "    </tr>\n",
       "    <tr>\n",
       "      <td>EPC3</td>\n",
       "      <td>0.681828</td>\n",
       "      <td>-0.298256</td>\n",
       "      <td>1.000000</td>\n",
       "      <td>0.441067</td>\n",
       "      <td>-0.187466</td>\n",
       "      <td>0.069052</td>\n",
       "      <td>-0.019076</td>\n",
       "      <td>0.104616</td>\n",
       "      <td>-0.179352</td>\n",
       "      <td>0.095317</td>\n",
       "      <td>0.522613</td>\n",
       "      <td>0.522595</td>\n",
       "    </tr>\n",
       "    <tr>\n",
       "      <td>Usage</td>\n",
       "      <td>0.459152</td>\n",
       "      <td>-0.019484</td>\n",
       "      <td>0.441067</td>\n",
       "      <td>1.000000</td>\n",
       "      <td>-0.452627</td>\n",
       "      <td>-0.331674</td>\n",
       "      <td>-0.183069</td>\n",
       "      <td>0.233438</td>\n",
       "      <td>-0.452123</td>\n",
       "      <td>0.270093</td>\n",
       "      <td>0.388406</td>\n",
       "      <td>0.388337</td>\n",
       "    </tr>\n",
       "    <tr>\n",
       "      <td>Payment</td>\n",
       "      <td>-0.218100</td>\n",
       "      <td>-0.235279</td>\n",
       "      <td>-0.187466</td>\n",
       "      <td>-0.452627</td>\n",
       "      <td>1.000000</td>\n",
       "      <td>0.425187</td>\n",
       "      <td>0.043617</td>\n",
       "      <td>-0.117452</td>\n",
       "      <td>0.193178</td>\n",
       "      <td>-0.097968</td>\n",
       "      <td>-0.376582</td>\n",
       "      <td>-0.376564</td>\n",
       "    </tr>\n",
       "    <tr>\n",
       "      <td>Calls</td>\n",
       "      <td>0.025520</td>\n",
       "      <td>-0.600315</td>\n",
       "      <td>0.069052</td>\n",
       "      <td>-0.331674</td>\n",
       "      <td>0.425187</td>\n",
       "      <td>1.000000</td>\n",
       "      <td>-0.165043</td>\n",
       "      <td>-0.112714</td>\n",
       "      <td>0.199114</td>\n",
       "      <td>-0.109196</td>\n",
       "      <td>-0.453819</td>\n",
       "      <td>-0.453816</td>\n",
       "    </tr>\n",
       "    <tr>\n",
       "      <td>Age</td>\n",
       "      <td>-0.057485</td>\n",
       "      <td>0.215872</td>\n",
       "      <td>-0.019076</td>\n",
       "      <td>-0.183069</td>\n",
       "      <td>0.043617</td>\n",
       "      <td>-0.165043</td>\n",
       "      <td>1.000000</td>\n",
       "      <td>0.020639</td>\n",
       "      <td>-0.007467</td>\n",
       "      <td>-0.012059</td>\n",
       "      <td>0.146397</td>\n",
       "      <td>0.146245</td>\n",
       "    </tr>\n",
       "    <tr>\n",
       "      <td>Region_Center</td>\n",
       "      <td>0.078595</td>\n",
       "      <td>-0.015619</td>\n",
       "      <td>0.104616</td>\n",
       "      <td>0.233438</td>\n",
       "      <td>-0.117452</td>\n",
       "      <td>-0.112714</td>\n",
       "      <td>0.020639</td>\n",
       "      <td>1.000000</td>\n",
       "      <td>-0.547314</td>\n",
       "      <td>-0.379205</td>\n",
       "      <td>0.070640</td>\n",
       "      <td>0.070577</td>\n",
       "    </tr>\n",
       "    <tr>\n",
       "      <td>Region_North</td>\n",
       "      <td>-0.145914</td>\n",
       "      <td>-0.012884</td>\n",
       "      <td>-0.179352</td>\n",
       "      <td>-0.452123</td>\n",
       "      <td>0.193178</td>\n",
       "      <td>0.199114</td>\n",
       "      <td>-0.007467</td>\n",
       "      <td>-0.547314</td>\n",
       "      <td>1.000000</td>\n",
       "      <td>-0.566875</td>\n",
       "      <td>-0.158596</td>\n",
       "      <td>-0.158481</td>\n",
       "    </tr>\n",
       "    <tr>\n",
       "      <td>Region_South</td>\n",
       "      <td>0.083961</td>\n",
       "      <td>0.029619</td>\n",
       "      <td>0.095317</td>\n",
       "      <td>0.270093</td>\n",
       "      <td>-0.097968</td>\n",
       "      <td>-0.109196</td>\n",
       "      <td>-0.012059</td>\n",
       "      <td>-0.379205</td>\n",
       "      <td>-0.566875</td>\n",
       "      <td>1.000000</td>\n",
       "      <td>0.105812</td>\n",
       "      <td>0.105748</td>\n",
       "    </tr>\n",
       "    <tr>\n",
       "      <td>Average EPC</td>\n",
       "      <td>0.587361</td>\n",
       "      <td>0.606105</td>\n",
       "      <td>0.522613</td>\n",
       "      <td>0.388406</td>\n",
       "      <td>-0.376582</td>\n",
       "      <td>-0.453819</td>\n",
       "      <td>0.146397</td>\n",
       "      <td>0.070640</td>\n",
       "      <td>-0.158596</td>\n",
       "      <td>0.105812</td>\n",
       "      <td>1.000000</td>\n",
       "      <td>0.999995</td>\n",
       "    </tr>\n",
       "    <tr>\n",
       "      <td>Total EPC</td>\n",
       "      <td>0.587394</td>\n",
       "      <td>0.606105</td>\n",
       "      <td>0.522595</td>\n",
       "      <td>0.388337</td>\n",
       "      <td>-0.376564</td>\n",
       "      <td>-0.453816</td>\n",
       "      <td>0.146245</td>\n",
       "      <td>0.070577</td>\n",
       "      <td>-0.158481</td>\n",
       "      <td>0.105748</td>\n",
       "      <td>0.999995</td>\n",
       "      <td>1.000000</td>\n",
       "    </tr>\n",
       "  </tbody>\n",
       "</table>\n",
       "</div>"
      ],
      "text/plain": [
       "                   EPC1      EPC2      EPC3     Usage   Payment     Calls  \\\n",
       "EPC1           1.000000 -0.188828  0.681828  0.459152 -0.218100  0.025520   \n",
       "EPC2          -0.188828  1.000000 -0.298256 -0.019484 -0.235279 -0.600315   \n",
       "EPC3           0.681828 -0.298256  1.000000  0.441067 -0.187466  0.069052   \n",
       "Usage          0.459152 -0.019484  0.441067  1.000000 -0.452627 -0.331674   \n",
       "Payment       -0.218100 -0.235279 -0.187466 -0.452627  1.000000  0.425187   \n",
       "Calls          0.025520 -0.600315  0.069052 -0.331674  0.425187  1.000000   \n",
       "Age           -0.057485  0.215872 -0.019076 -0.183069  0.043617 -0.165043   \n",
       "Region_Center  0.078595 -0.015619  0.104616  0.233438 -0.117452 -0.112714   \n",
       "Region_North  -0.145914 -0.012884 -0.179352 -0.452123  0.193178  0.199114   \n",
       "Region_South   0.083961  0.029619  0.095317  0.270093 -0.097968 -0.109196   \n",
       "Average EPC    0.587361  0.606105  0.522613  0.388406 -0.376582 -0.453819   \n",
       "Total EPC      0.587394  0.606105  0.522595  0.388337 -0.376564 -0.453816   \n",
       "\n",
       "                    Age  Region_Center  Region_North  Region_South  \\\n",
       "EPC1          -0.057485       0.078595     -0.145914      0.083961   \n",
       "EPC2           0.215872      -0.015619     -0.012884      0.029619   \n",
       "EPC3          -0.019076       0.104616     -0.179352      0.095317   \n",
       "Usage         -0.183069       0.233438     -0.452123      0.270093   \n",
       "Payment        0.043617      -0.117452      0.193178     -0.097968   \n",
       "Calls         -0.165043      -0.112714      0.199114     -0.109196   \n",
       "Age            1.000000       0.020639     -0.007467     -0.012059   \n",
       "Region_Center  0.020639       1.000000     -0.547314     -0.379205   \n",
       "Region_North  -0.007467      -0.547314      1.000000     -0.566875   \n",
       "Region_South  -0.012059      -0.379205     -0.566875      1.000000   \n",
       "Average EPC    0.146397       0.070640     -0.158596      0.105812   \n",
       "Total EPC      0.146245       0.070577     -0.158481      0.105748   \n",
       "\n",
       "               Average EPC  Total EPC  \n",
       "EPC1              0.587361   0.587394  \n",
       "EPC2              0.606105   0.606105  \n",
       "EPC3              0.522613   0.522595  \n",
       "Usage             0.388406   0.388337  \n",
       "Payment          -0.376582  -0.376564  \n",
       "Calls            -0.453819  -0.453816  \n",
       "Age               0.146397   0.146245  \n",
       "Region_Center     0.070640   0.070577  \n",
       "Region_North     -0.158596  -0.158481  \n",
       "Region_South      0.105812   0.105748  \n",
       "Average EPC       1.000000   0.999995  \n",
       "Total EPC         0.999995   1.000000  "
      ]
     },
     "execution_count": 57,
     "metadata": {},
     "output_type": "execute_result"
    }
   ],
   "source": [
    "elec_usage_data.apply(lambda s: elec_usage_data.corrwith(s))"
   ]
  },
  {
   "cell_type": "code",
   "execution_count": 58,
   "metadata": {},
   "outputs": [
    {
     "data": {
      "text/plain": [
       "<matplotlib.axes._subplots.AxesSubplot at 0x200669f9a08>"
      ]
     },
     "execution_count": 58,
     "metadata": {},
     "output_type": "execute_result"
    },
    {
     "data": {
      "image/png": "[encoded data removed]",
      "text/plain": [
       "<Figure size 432x288 with 2 Axes>"
      ]
     },
     "metadata": {},
     "output_type": "display_data"
    }
   ],
   "source": [
    "corrmat = elec_usage_data.corr()\n",
    "sns.heatmap(corrmat, linewidths=0.25, vmax=1.0, square=True,\n",
    "           cmap=\"YlGnBu\", linecolor='black', annot=True)"
   ]
  },
  {
   "cell_type": "markdown",
   "metadata": {},
   "source": [
    "### Strong Correlations:\n",
    "     · Total EPC with Payments and Calls (-)\n",
    "     · Regions with other regions (-)\n",
    "     · Payment with Usage and EPC (-)\n",
    "     · Calls with EPC2 (-)\n",
    "     · Age more (+) correlated with EPC2 and (-) with EPC1 and EPC3\n",
    "     · Usage with EPC (+)\n",
    "     · \n",
    "     \n",
    "    "
   ]
  },
  {
   "cell_type": "markdown",
   "metadata": {},
   "source": [
    "## PCA"
   ]
  },
  {
   "cell_type": "markdown",
   "metadata": {},
   "source": [
    "### Scaling"
   ]
  },
  {
   "cell_type": "code",
   "execution_count": 59,
   "metadata": {},
   "outputs": [
    {
     "data": {
      "text/plain": [
       "<matplotlib.axes._subplots.AxesSubplot at 0x20066c46448>"
      ]
     },
     "execution_count": 59,
     "metadata": {},
     "output_type": "execute_result"
    },
    {
     "data": {
      "image/png": "[encoded data removed]",
      "text/plain": [
       "<Figure size 432x288 with 1 Axes>"
      ]
     },
     "metadata": {},
     "output_type": "display_data"
    }
   ],
   "source": [
    "import numpy as np\n",
    "elec_usage_data.boxplot()"
   ]
  },
  {
   "cell_type": "markdown",
   "metadata": {},
   "source": [
    "a) scaling method 1: StandardScaler"
   ]
  },
  {
   "cell_type": "code",
   "execution_count": 60,
   "metadata": {},
   "outputs": [],
   "source": [
    "from sklearn.preprocessing import StandardScaler\n",
    "#normalize the dataset\n",
    "scaler = StandardScaler()\n",
    "elec_usage_data_scaled = scaler.fit_transform(elec_usage_data)"
   ]
  },
  {
   "cell_type": "code",
   "execution_count": 61,
   "metadata": {},
   "outputs": [
    {
     "data": {
      "text/plain": [
       "array([[ 0.83458251, -0.01936493, -0.29963103, ..., -0.62670381,\n",
       "         0.17482474,  0.17838673],\n",
       "       [ 0.38535089,  0.46808179,  1.34792776, ..., -0.62670381,\n",
       "         1.21177108,  1.20803595],\n",
       "       [ 0.56504353,  0.15788842,  0.29948126, ..., -0.62670381,\n",
       "         0.50576506,  0.50934541],\n",
       "       ...,\n",
       "       [-0.15372706, -0.24093162,  0.07481415, ..., -0.62670381,\n",
       "        -0.22230364, -0.22611832],\n",
       "       [-0.06388074, -0.28524496,  0.82370451, ...,  1.59565012,\n",
       "         0.14173071,  0.14161354],\n",
       "       [-0.06388074, -0.24093162,  0.97348258, ...,  1.59565012,\n",
       "         0.25204415,  0.2519331 ]])"
      ]
     },
     "execution_count": 61,
     "metadata": {},
     "output_type": "execute_result"
    }
   ],
   "source": [
    "elec_usage_data_scaled"
   ]
  },
  {
   "cell_type": "code",
   "execution_count": 62,
   "metadata": {},
   "outputs": [
    {
     "data": {
      "text/html": [
       "<div>\n",
       "<style scoped>\n",
       "    .dataframe tbody tr th:only-of-type {\n",
       "        vertical-align: middle;\n",
       "    }\n",
       "\n",
       "    .dataframe tbody tr th {\n",
       "        vertical-align: top;\n",
       "    }\n",
       "\n",
       "    .dataframe thead th {\n",
       "        text-align: right;\n",
       "    }\n",
       "</style>\n",
       "<table border=\"1\" class=\"dataframe\">\n",
       "  <thead>\n",
       "    <tr style=\"text-align: right;\">\n",
       "      <th></th>\n",
       "      <th>EPC1</th>\n",
       "      <th>EPC2</th>\n",
       "      <th>EPC3</th>\n",
       "      <th>Usage</th>\n",
       "      <th>Payment</th>\n",
       "      <th>Calls</th>\n",
       "      <th>Age</th>\n",
       "      <th>Region_Center</th>\n",
       "      <th>Region_North</th>\n",
       "      <th>Region_South</th>\n",
       "      <th>Average EPC</th>\n",
       "      <th>Total EPC</th>\n",
       "    </tr>\n",
       "  </thead>\n",
       "  <tbody>\n",
       "    <tr>\n",
       "      <td>0</td>\n",
       "      <td>0.834583</td>\n",
       "      <td>-0.019365</td>\n",
       "      <td>-0.299631</td>\n",
       "      <td>0.838198</td>\n",
       "      <td>2.859075</td>\n",
       "      <td>1.958966</td>\n",
       "      <td>-0.843981</td>\n",
       "      <td>-0.605079</td>\n",
       "      <td>1.105542</td>\n",
       "      <td>-0.626704</td>\n",
       "      <td>0.174825</td>\n",
       "      <td>0.178387</td>\n",
       "    </tr>\n",
       "    <tr>\n",
       "      <td>1</td>\n",
       "      <td>0.385351</td>\n",
       "      <td>0.468082</td>\n",
       "      <td>1.347928</td>\n",
       "      <td>1.131057</td>\n",
       "      <td>-0.349763</td>\n",
       "      <td>-0.260825</td>\n",
       "      <td>-2.066994</td>\n",
       "      <td>1.652678</td>\n",
       "      <td>-0.904534</td>\n",
       "      <td>-0.626704</td>\n",
       "      <td>1.211771</td>\n",
       "      <td>1.208036</td>\n",
       "    </tr>\n",
       "    <tr>\n",
       "      <td>2</td>\n",
       "      <td>0.565044</td>\n",
       "      <td>0.157888</td>\n",
       "      <td>0.299481</td>\n",
       "      <td>1.021235</td>\n",
       "      <td>-0.349763</td>\n",
       "      <td>0.849070</td>\n",
       "      <td>-1.353570</td>\n",
       "      <td>1.652678</td>\n",
       "      <td>-0.904534</td>\n",
       "      <td>-0.626704</td>\n",
       "      <td>0.505765</td>\n",
       "      <td>0.509345</td>\n",
       "    </tr>\n",
       "    <tr>\n",
       "      <td>3</td>\n",
       "      <td>0.115812</td>\n",
       "      <td>0.246515</td>\n",
       "      <td>1.872151</td>\n",
       "      <td>1.131057</td>\n",
       "      <td>-0.349763</td>\n",
       "      <td>-0.260825</td>\n",
       "      <td>-1.557405</td>\n",
       "      <td>1.652678</td>\n",
       "      <td>-0.904534</td>\n",
       "      <td>-0.626704</td>\n",
       "      <td>1.167646</td>\n",
       "      <td>1.171263</td>\n",
       "    </tr>\n",
       "    <tr>\n",
       "      <td>4</td>\n",
       "      <td>-0.423266</td>\n",
       "      <td>-0.107992</td>\n",
       "      <td>0.224592</td>\n",
       "      <td>1.131057</td>\n",
       "      <td>-0.349763</td>\n",
       "      <td>0.849070</td>\n",
       "      <td>-1.251652</td>\n",
       "      <td>-0.605079</td>\n",
       "      <td>1.105542</td>\n",
       "      <td>-0.626704</td>\n",
       "      <td>-0.156116</td>\n",
       "      <td>-0.152572</td>\n",
       "    </tr>\n",
       "  </tbody>\n",
       "</table>\n",
       "</div>"
      ],
      "text/plain": [
       "       EPC1      EPC2      EPC3     Usage   Payment     Calls       Age  \\\n",
       "0  0.834583 -0.019365 -0.299631  0.838198  2.859075  1.958966 -0.843981   \n",
       "1  0.385351  0.468082  1.347928  1.131057 -0.349763 -0.260825 -2.066994   \n",
       "2  0.565044  0.157888  0.299481  1.021235 -0.349763  0.849070 -1.353570   \n",
       "3  0.115812  0.246515  1.872151  1.131057 -0.349763 -0.260825 -1.557405   \n",
       "4 -0.423266 -0.107992  0.224592  1.131057 -0.349763  0.849070 -1.251652   \n",
       "\n",
       "   Region_Center  Region_North  Region_South  Average EPC  Total EPC  \n",
       "0      -0.605079      1.105542     -0.626704     0.174825   0.178387  \n",
       "1       1.652678     -0.904534     -0.626704     1.211771   1.208036  \n",
       "2       1.652678     -0.904534     -0.626704     0.505765   0.509345  \n",
       "3       1.652678     -0.904534     -0.626704     1.167646   1.171263  \n",
       "4      -0.605079      1.105542     -0.626704    -0.156116  -0.152572  "
      ]
     },
     "execution_count": 62,
     "metadata": {},
     "output_type": "execute_result"
    }
   ],
   "source": [
    "elec_usage_data_scaled_df = pd.DataFrame(elec_usage_data_scaled)\n",
    "elec_usage_data_scaled_df.columns = elec_usage_data.columns\n",
    "\n",
    "elec_usage_data_scaled_df.head()"
   ]
  },
  {
   "cell_type": "code",
   "execution_count": 63,
   "metadata": {},
   "outputs": [
    {
     "data": {
      "text/plain": [
       "<matplotlib.axes._subplots.AxesSubplot at 0x20065aade08>"
      ]
     },
     "execution_count": 63,
     "metadata": {},
     "output_type": "execute_result"
    },
    {
     "data": {
      "image/png": "[encoded data removed]",
      "text/plain": [
       "<Figure size 432x288 with 1 Axes>"
      ]
     },
     "metadata": {},
     "output_type": "display_data"
    }
   ],
   "source": [
    "elec_usage_data_scaled_df.boxplot()"
   ]
  },
  {
   "cell_type": "markdown",
   "metadata": {},
   "source": [
    "b) scaling method 2: Minmax"
   ]
  },
  {
   "cell_type": "markdown",
   "metadata": {},
   "source": [
    "##### Results: We have 3 different datasets to be tested: \n",
    "###### a) \"elec_usage_data\" - Not scaled dataset  (We will apply PCA only in the scaled datasets)\n",
    "###### b) \"elec_usage_data_scaled_df\" - StandardScaler dataset\n",
    "###### c) \"elec_usage_data_scaled_df2\" - MinmaxScaler dataset"
   ]
  },
  {
   "cell_type": "markdown",
   "metadata": {},
   "source": [
    "### PCA fit"
   ]
  },
  {
   "cell_type": "markdown",
   "metadata": {},
   "source": [
    "b)"
   ]
  },
  {
   "cell_type": "code",
   "execution_count": 64,
   "metadata": {},
   "outputs": [],
   "source": [
    "import matplotlib.pyplot as plt"
   ]
  },
  {
   "cell_type": "code",
   "execution_count": 65,
   "metadata": {},
   "outputs": [
    {
     "data": {
      "image/png": "[encoded data removed]",
      "text/plain": [
       "<Figure size 432x288 with 1 Axes>"
      ]
     },
     "metadata": {},
     "output_type": "display_data"
    }
   ],
   "source": [
    "from sklearn.decomposition import PCA\n",
    "# we can choose the number of components e.g. 10, the percentage of the total variance or set it to None (that means it automatically chooses the number of components)\n",
    "pca = PCA(n_components=0.99)\n",
    "principalComponents = pca.fit_transform(elec_usage_data_scaled_df)\n",
    "# Plot the explained variances\n",
    "features = range(pca.n_components_)\n",
    "plt.bar(features, pca.explained_variance_ratio_, color='black')\n",
    "plt.xlabel('PCA features')\n",
    "plt.ylabel('variance %')\n",
    "plt.xticks(features)\n",
    "# Save components to a DataFrame\n",
    "PCA_components = pd.DataFrame(principalComponents)"
   ]
  },
  {
   "cell_type": "code",
   "execution_count": 66,
   "metadata": {},
   "outputs": [
    {
     "name": "stderr",
     "output_type": "stream",
     "text": [
      "C:\\Users\\chand\\Anaconda3\\lib\\site-packages\\ipykernel_launcher.py:5: UserWarning: This figure includes Axes that are not compatible with tight_layout, so results might be incorrect.\n",
      "  \"\"\"\n"
     ]
    },
    {
     "data": {
      "image/png": "[encoded data removed]",
      "text/plain": [
       "<Figure size 384x288 with 2 Axes>"
      ]
     },
     "metadata": {},
     "output_type": "display_data"
    }
   ],
   "source": [
    "plt.matshow(pca.components_,cmap='viridis')\n",
    "plt.yticks([0,1],['1st Comp','2nd Comp'],fontsize=10)\n",
    "plt.colorbar()\n",
    "plt.xticks(range(len(elec_usage_data_scaled_df.columns)),elec_usage_data_scaled_df.columns,rotation=65,ha='left')\n",
    "plt.tight_layout()\n",
    "plt.show()# "
   ]
  },
  {
   "cell_type": "code",
   "execution_count": 68,
   "metadata": {},
   "outputs": [
    {
     "data": {
      "text/html": [
       "<div>\n",
       "<style scoped>\n",
       "    .dataframe tbody tr th:only-of-type {\n",
       "        vertical-align: middle;\n",
       "    }\n",
       "\n",
       "    .dataframe tbody tr th {\n",
       "        vertical-align: top;\n",
       "    }\n",
       "\n",
       "    .dataframe thead th {\n",
       "        text-align: right;\n",
       "    }\n",
       "</style>\n",
       "<table border=\"1\" class=\"dataframe\">\n",
       "  <thead>\n",
       "    <tr style=\"text-align: right;\">\n",
       "      <th></th>\n",
       "      <th>EPC1</th>\n",
       "      <th>EPC2</th>\n",
       "      <th>EPC3</th>\n",
       "      <th>Usage</th>\n",
       "      <th>Payment</th>\n",
       "      <th>Calls</th>\n",
       "      <th>Age</th>\n",
       "      <th>Region_Center</th>\n",
       "      <th>Region_North</th>\n",
       "      <th>Region_South</th>\n",
       "      <th>Average EPC</th>\n",
       "      <th>Total EPC</th>\n",
       "    </tr>\n",
       "  </thead>\n",
       "  <tbody>\n",
       "    <tr>\n",
       "      <td>PC1</td>\n",
       "      <td>-0.320020</td>\n",
       "      <td>-0.216973</td>\n",
       "      <td>-0.293670</td>\n",
       "      <td>-0.335541</td>\n",
       "      <td>0.287042</td>\n",
       "      <td>0.277340</td>\n",
       "      <td>-0.043762</td>\n",
       "      <td>-0.110919</td>\n",
       "      <td>0.216268</td>\n",
       "      <td>-0.129927</td>\n",
       "      <td>-0.455255</td>\n",
       "      <td>-0.455237</td>\n",
       "    </tr>\n",
       "    <tr>\n",
       "      <td>PC2</td>\n",
       "      <td>-0.352375</td>\n",
       "      <td>0.578220</td>\n",
       "      <td>-0.404971</td>\n",
       "      <td>-0.250477</td>\n",
       "      <td>-0.055681</td>\n",
       "      <td>-0.380818</td>\n",
       "      <td>0.262575</td>\n",
       "      <td>-0.116479</td>\n",
       "      <td>0.192534</td>\n",
       "      <td>-0.098214</td>\n",
       "      <td>0.136750</td>\n",
       "      <td>0.136753</td>\n",
       "    </tr>\n",
       "    <tr>\n",
       "      <td>PC3</td>\n",
       "      <td>0.305472</td>\n",
       "      <td>-0.024029</td>\n",
       "      <td>0.275906</td>\n",
       "      <td>-0.232546</td>\n",
       "      <td>0.155407</td>\n",
       "      <td>0.229906</td>\n",
       "      <td>0.073186</td>\n",
       "      <td>-0.325169</td>\n",
       "      <td>0.597055</td>\n",
       "      <td>-0.340038</td>\n",
       "      <td>0.240490</td>\n",
       "      <td>0.240566</td>\n",
       "    </tr>\n",
       "    <tr>\n",
       "      <td>PC4</td>\n",
       "      <td>0.000304</td>\n",
       "      <td>-0.015037</td>\n",
       "      <td>0.013057</td>\n",
       "      <td>-0.013413</td>\n",
       "      <td>-0.034463</td>\n",
       "      <td>-0.026112</td>\n",
       "      <td>0.060578</td>\n",
       "      <td>0.712835</td>\n",
       "      <td>-0.004308</td>\n",
       "      <td>-0.696894</td>\n",
       "      <td>-0.005935</td>\n",
       "      <td>-0.005943</td>\n",
       "    </tr>\n",
       "    <tr>\n",
       "      <td>PC5</td>\n",
       "      <td>0.051603</td>\n",
       "      <td>-0.020713</td>\n",
       "      <td>0.135117</td>\n",
       "      <td>-0.251000</td>\n",
       "      <td>0.446486</td>\n",
       "      <td>0.165390</td>\n",
       "      <td>0.718693</td>\n",
       "      <td>0.152602</td>\n",
       "      <td>-0.315739</td>\n",
       "      <td>0.198874</td>\n",
       "      <td>0.070413</td>\n",
       "      <td>0.070279</td>\n",
       "    </tr>\n",
       "    <tr>\n",
       "      <td>PC6</td>\n",
       "      <td>0.003143</td>\n",
       "      <td>0.308053</td>\n",
       "      <td>-0.103317</td>\n",
       "      <td>-0.158293</td>\n",
       "      <td>0.576668</td>\n",
       "      <td>0.169418</td>\n",
       "      <td>-0.598999</td>\n",
       "      <td>0.153211</td>\n",
       "      <td>-0.192412</td>\n",
       "      <td>0.061923</td>\n",
       "      <td>0.206082</td>\n",
       "      <td>0.206190</td>\n",
       "    </tr>\n",
       "    <tr>\n",
       "      <td>PC7</td>\n",
       "      <td>0.012632</td>\n",
       "      <td>-0.132081</td>\n",
       "      <td>0.038190</td>\n",
       "      <td>0.505751</td>\n",
       "      <td>0.596969</td>\n",
       "      <td>-0.547955</td>\n",
       "      <td>0.062041</td>\n",
       "      <td>-0.092015</td>\n",
       "      <td>0.175539</td>\n",
       "      <td>-0.103505</td>\n",
       "      <td>-0.085677</td>\n",
       "      <td>-0.085684</td>\n",
       "    </tr>\n",
       "    <tr>\n",
       "      <td>PC8</td>\n",
       "      <td>0.553353</td>\n",
       "      <td>0.107653</td>\n",
       "      <td>-0.686725</td>\n",
       "      <td>0.318982</td>\n",
       "      <td>0.011895</td>\n",
       "      <td>0.286071</td>\n",
       "      <td>0.156259</td>\n",
       "      <td>-0.006852</td>\n",
       "      <td>0.029288</td>\n",
       "      <td>-0.025636</td>\n",
       "      <td>-0.021363</td>\n",
       "      <td>-0.021390</td>\n",
       "    </tr>\n",
       "    <tr>\n",
       "      <td>PC9</td>\n",
       "      <td>0.515968</td>\n",
       "      <td>-0.249549</td>\n",
       "      <td>-0.143242</td>\n",
       "      <td>-0.569934</td>\n",
       "      <td>-0.027517</td>\n",
       "      <td>-0.535139</td>\n",
       "      <td>-0.128559</td>\n",
       "      <td>0.037146</td>\n",
       "      <td>-0.090796</td>\n",
       "      <td>0.063820</td>\n",
       "      <td>-0.066452</td>\n",
       "      <td>-0.066243</td>\n",
       "    </tr>\n",
       "  </tbody>\n",
       "</table>\n",
       "</div>"
      ],
      "text/plain": [
       "         EPC1      EPC2      EPC3     Usage   Payment     Calls       Age  \\\n",
       "PC1 -0.320020 -0.216973 -0.293670 -0.335541  0.287042  0.277340 -0.043762   \n",
       "PC2 -0.352375  0.578220 -0.404971 -0.250477 -0.055681 -0.380818  0.262575   \n",
       "PC3  0.305472 -0.024029  0.275906 -0.232546  0.155407  0.229906  0.073186   \n",
       "PC4  0.000304 -0.015037  0.013057 -0.013413 -0.034463 -0.026112  0.060578   \n",
       "PC5  0.051603 -0.020713  0.135117 -0.251000  0.446486  0.165390  0.718693   \n",
       "PC6  0.003143  0.308053 -0.103317 -0.158293  0.576668  0.169418 -0.598999   \n",
       "PC7  0.012632 -0.132081  0.038190  0.505751  0.596969 -0.547955  0.062041   \n",
       "PC8  0.553353  0.107653 -0.686725  0.318982  0.011895  0.286071  0.156259   \n",
       "PC9  0.515968 -0.249549 -0.143242 -0.569934 -0.027517 -0.535139 -0.128559   \n",
       "\n",
       "     Region_Center  Region_North  Region_South  Average EPC  Total EPC  \n",
       "PC1      -0.110919      0.216268     -0.129927    -0.455255  -0.455237  \n",
       "PC2      -0.116479      0.192534     -0.098214     0.136750   0.136753  \n",
       "PC3      -0.325169      0.597055     -0.340038     0.240490   0.240566  \n",
       "PC4       0.712835     -0.004308     -0.696894    -0.005935  -0.005943  \n",
       "PC5       0.152602     -0.315739      0.198874     0.070413   0.070279  \n",
       "PC6       0.153211     -0.192412      0.061923     0.206082   0.206190  \n",
       "PC7      -0.092015      0.175539     -0.103505    -0.085677  -0.085684  \n",
       "PC8      -0.006852      0.029288     -0.025636    -0.021363  -0.021390  \n",
       "PC9       0.037146     -0.090796      0.063820    -0.066452  -0.066243  "
      ]
     },
     "execution_count": 68,
     "metadata": {},
     "output_type": "execute_result"
    }
   ],
   "source": [
    "pd.DataFrame(pca.components_,index=['PC1','PC2','PC3','PC4','PC5','PC6','PC7','PC8','PC9'],columns=elec_usage_data_scaled_df.columns)"
   ]
  },
  {
   "cell_type": "markdown",
   "metadata": {},
   "source": [
    "#### PC1 --> EPC1, EPC2, EPC3, Total EPC, Usage\n",
    "#### PC2 --> EPC1, EPC3, Calls, Payment"
   ]
  },
  {
   "cell_type": "code",
   "execution_count": 18,
   "metadata": {},
   "outputs": [
    {
     "data": {
      "image/png": "[encoded data removed]",
      "text/plain": [
       "<Figure size 432x288 with 1 Axes>"
      ]
     },
     "metadata": {
      "needs_background": "light"
     },
     "output_type": "display_data"
    }
   ],
   "source": [
    "p1=sns.scatterplot(x=PCA_components[0], y=PCA_components[1],\n",
    "              alpha=.4, \n",
    "              data=PCA_components)"
   ]
  },
  {
   "cell_type": "markdown",
   "metadata": {},
   "source": [
    "c)"
   ]
  },
  {
   "cell_type": "code",
   "execution_count": 19,
   "metadata": {},
   "outputs": [],
   "source": [
    "# save both PCA's\n",
    "#df2_pca.to_csv(r'/Users/mireia/Downloads\\PCA1.csv', index = True)"
   ]
  },
  {
   "cell_type": "markdown",
   "metadata": {},
   "source": [
    "from IPython.display import HTML\n",
    "import base64   \n",
    "\n",
    "def create_download_link( df, title = \"Download CSV file\", filename = \"PCA1.csv\"):  \n",
    "    csv = df2_pca.to_csv(index =True)\n",
    "    b64 = base64.b64encode(csv.encode())\n",
    "    payload = b64.decode()\n",
    "    html = '<a download=\"{filename}\" href=\"data:text/csv;base64,{payload}\" target=\"_blank\">{title}</a>'\n",
    "    html = html.format(payload=payload,title=title,filename=filename)\n",
    "    return HTML(html)\n",
    "\n",
    "create_download_link(df2_pca)"
   ]
  },
  {
   "cell_type": "markdown",
   "metadata": {},
   "source": [
    "#### *************************************************************************************************************###########################################################################################################333"
   ]
  },
  {
   "cell_type": "markdown",
   "metadata": {},
   "source": [
    "### K-means"
   ]
  },
  {
   "cell_type": "code",
   "execution_count": 23,
   "metadata": {},
   "outputs": [],
   "source": [
    "from sklearn.cluster import KMeans\n",
    "from sklearn.metrics import v_measure_score "
   ]
  },
  {
   "cell_type": "code",
   "execution_count": 24,
   "metadata": {},
   "outputs": [
    {
     "data": {
      "text/html": [
       "<div>\n",
       "<style scoped>\n",
       "    .dataframe tbody tr th:only-of-type {\n",
       "        vertical-align: middle;\n",
       "    }\n",
       "\n",
       "    .dataframe tbody tr th {\n",
       "        vertical-align: top;\n",
       "    }\n",
       "\n",
       "    .dataframe thead th {\n",
       "        text-align: right;\n",
       "    }\n",
       "</style>\n",
       "<table border=\"1\" class=\"dataframe\">\n",
       "  <thead>\n",
       "    <tr style=\"text-align: right;\">\n",
       "      <th></th>\n",
       "      <th>0</th>\n",
       "      <th>1</th>\n",
       "    </tr>\n",
       "  </thead>\n",
       "  <tbody>\n",
       "    <tr>\n",
       "      <td>0</td>\n",
       "      <td>1.171608</td>\n",
       "      <td>-1.127520</td>\n",
       "    </tr>\n",
       "    <tr>\n",
       "      <td>1</td>\n",
       "      <td>-2.481639</td>\n",
       "      <td>-1.092441</td>\n",
       "    </tr>\n",
       "    <tr>\n",
       "      <td>2</td>\n",
       "      <td>-1.211013</td>\n",
       "      <td>-1.310456</td>\n",
       "    </tr>\n",
       "    <tr>\n",
       "      <td>3</td>\n",
       "      <td>-2.486728</td>\n",
       "      <td>-1.215129</td>\n",
       "    </tr>\n",
       "    <tr>\n",
       "      <td>4</td>\n",
       "      <td>0.431435</td>\n",
       "      <td>-0.617400</td>\n",
       "    </tr>\n",
       "    <tr>\n",
       "      <td>...</td>\n",
       "      <td>...</td>\n",
       "      <td>...</td>\n",
       "    </tr>\n",
       "    <tr>\n",
       "      <td>995</td>\n",
       "      <td>0.761518</td>\n",
       "      <td>-0.279121</td>\n",
       "    </tr>\n",
       "    <tr>\n",
       "      <td>996</td>\n",
       "      <td>-0.773108</td>\n",
       "      <td>-0.228713</td>\n",
       "    </tr>\n",
       "    <tr>\n",
       "      <td>997</td>\n",
       "      <td>0.396069</td>\n",
       "      <td>0.081611</td>\n",
       "    </tr>\n",
       "    <tr>\n",
       "      <td>998</td>\n",
       "      <td>-0.937535</td>\n",
       "      <td>-0.722209</td>\n",
       "    </tr>\n",
       "    <tr>\n",
       "      <td>999</td>\n",
       "      <td>-0.868572</td>\n",
       "      <td>-0.972327</td>\n",
       "    </tr>\n",
       "  </tbody>\n",
       "</table>\n",
       "<p>1000 rows × 2 columns</p>\n",
       "</div>"
      ],
      "text/plain": [
       "            0         1\n",
       "0    1.171608 -1.127520\n",
       "1   -2.481639 -1.092441\n",
       "2   -1.211013 -1.310456\n",
       "3   -2.486728 -1.215129\n",
       "4    0.431435 -0.617400\n",
       "..        ...       ...\n",
       "995  0.761518 -0.279121\n",
       "996 -0.773108 -0.228713\n",
       "997  0.396069  0.081611\n",
       "998 -0.937535 -0.722209\n",
       "999 -0.868572 -0.972327\n",
       "\n",
       "[1000 rows x 2 columns]"
      ]
     },
     "execution_count": 24,
     "metadata": {},
     "output_type": "execute_result"
    }
   ],
   "source": [
    "PCA_components.iloc[:,:2]"
   ]
  },
  {
   "cell_type": "code",
   "execution_count": 25,
   "metadata": {},
   "outputs": [
    {
     "data": {
      "image/png": "[encoded data removed]",
      "text/plain": [
       "<Figure size 432x288 with 1 Axes>"
      ]
     },
     "metadata": {
      "needs_background": "light"
     },
     "output_type": "display_data"
    }
   ],
   "source": [
    "ks = range(1, 10)\n",
    "inertias = []\n",
    "for k in ks:\n",
    "    # Create a KMeans instance with k clusters: model\n",
    "    model = KMeans(n_clusters=k)\n",
    "    \n",
    "    # Fit model to samples\n",
    "    model.fit(PCA_components.iloc[:,:2])\n",
    "    \n",
    "    # Append the inertia to the list of inertias\n",
    "    inertias.append(model.inertia_)\n",
    "    \n",
    "plt.plot(ks, inertias, '-o', color='black')\n",
    "plt.xlabel('number of clusters, k')\n",
    "plt.ylabel('inertia')\n",
    "plt.xticks(ks)\n",
    "plt.show()"
   ]
  },
  {
   "cell_type": "code",
   "execution_count": 26,
   "metadata": {},
   "outputs": [],
   "source": [
    "from sklearn.cluster import KMeans\n",
    "from sklearn.metrics import v_measure_score \n",
    "\n",
    "km = KMeans(n_clusters=4, \n",
    "            init='k-means++',  #init=’k-means++’ \n",
    "            n_init=10, \n",
    "            max_iter=300, \n",
    "            tol=1e-04, \n",
    "            random_state=0) #init=’k-means++’ see notes below\n",
    "\n",
    "km.fit(PCA_components.iloc[:,:2]) #Compute k-means clustering.\n",
    "y_km = km.predict(PCA_components.iloc[:,:2]) #Predict the closest cluster each sample in X belongs to."
   ]
  },
  {
   "cell_type": "code",
   "execution_count": 27,
   "metadata": {},
   "outputs": [
    {
     "data": {
      "image/png": "[encoded data removed]",
      "text/plain": [
       "<Figure size 432x288 with 1 Axes>"
      ]
     },
     "metadata": {
      "needs_background": "light"
     },
     "output_type": "display_data"
    }
   ],
   "source": [
    "plt.scatter(PCA_components.iloc[:,:2].iloc[y_km==0,0],\n",
    "            PCA_components.iloc[:,:2].iloc[y_km==0,1],\n",
    "            s=50, c='green',\n",
    "            marker='s',\n",
    "            label='cluster 1')\n",
    "\n",
    "plt.legend()\n",
    "plt.grid()\n",
    "plt.show()"
   ]
  },
  {
   "cell_type": "code",
   "execution_count": 30,
   "metadata": {},
   "outputs": [
    {
     "name": "stdout",
     "output_type": "stream",
     "text": [
      "Distortion: 989.68\n"
     ]
    },
    {
     "data": {
      "image/png": "[encoded data removed]",
      "text/plain": [
       "<Figure size 432x288 with 1 Axes>"
      ]
     },
     "metadata": {
      "needs_background": "light"
     },
     "output_type": "display_data"
    }
   ],
   "source": [
    "print(\"Distortion: %.2f\" % km.inertia_)\n",
    "plt.scatter(PCA_components.iloc[:,:2].iloc[y_km==0,0],PCA_components.iloc[:,:2].iloc[y_km==0,1],s=50,c='green',marker='s',label='cluster 1')\n",
    "plt.scatter(PCA_components.iloc[:,:2].iloc[y_km==1,0],PCA_components.iloc[:,:2].iloc[y_km==1,1],s=50,c='orange',marker='o',label='cluster 2')\n",
    "plt.scatter(PCA_components.iloc[:,:2].iloc[y_km==2,0],PCA_components.iloc[:,:2].iloc[y_km==2,1],s=50,c='blue',marker='v',label='cluster 3')\n",
    "plt.scatter(PCA_components.iloc[:,:2].iloc[y_km==3,0],PCA_components.iloc[:,:2].iloc[y_km==3,1],s=50,c='purple',marker='d',label='cluster 4')\n",
    "plt.scatter(km.cluster_centers_[:,0],km.cluster_centers_[:,1],s=250,c='red',marker='*',label='centroids')\n",
    "plt.legend()\n",
    "plt.grid()\n",
    "plt.show()"
   ]
  },
  {
   "cell_type": "code",
   "execution_count": 31,
   "metadata": {},
   "outputs": [],
   "source": [
    "def silh(silhouette_val,y): \n",
    "    y_ax_lower, y_ax_upper=0,0\n",
    "\n",
    "    for i in np.unique(y):\n",
    "        c_silhouette_vals = silhouette_vals[y_km==i]\n",
    "        c_silhouette_vals.sort()\n",
    "        y_ax_upper += len(c_silhouette_vals)\n",
    "        plt.barh(range(y_ax_lower, y_ax_upper), c_silhouette_vals, height=1)\n",
    "        y_ax_lower += len(c_silhouette_vals)\n",
    "    \n",
    "    silhouette_avg = np.mean(silhouette_vals)\n",
    "    plt.axvline(silhouette_avg, color='red',linestyle='--')\n",
    "    plt.ylabel('Cluster')\n",
    "    plt.xlabel('Silhouette Coefficient')\n",
    "    plt.show()"
   ]
  },
  {
   "cell_type": "code",
   "execution_count": 32,
   "metadata": {},
   "outputs": [
    {
     "name": "stdout",
     "output_type": "stream",
     "text": [
      "For n_clusters = 2 The average silhouette_score is : 0.6267520444508029\n"
     ]
    },
    {
     "data": {
      "image/png": "[encoded data removed]",
      "text/plain": [
       "<Figure size 432x288 with 1 Axes>"
      ]
     },
     "metadata": {
      "needs_background": "light"
     },
     "output_type": "display_data"
    },
    {
     "name": "stdout",
     "output_type": "stream",
     "text": [
      "For n_clusters = 3 The average silhouette_score is : 0.5335961279410119\n"
     ]
    },
    {
     "data": {
      "image/png": "[encoded data removed]",
      "text/plain": [
       "<Figure size 432x288 with 1 Axes>"
      ]
     },
     "metadata": {
      "needs_background": "light"
     },
     "output_type": "display_data"
    },
    {
     "name": "stdout",
     "output_type": "stream",
     "text": [
      "For n_clusters = 4 The average silhouette_score is : 0.4579399225153363\n"
     ]
    },
    {
     "data": {
      "image/png": "[encoded data removed]",
      "text/plain": [
       "<Figure size 432x288 with 1 Axes>"
      ]
     },
     "metadata": {
      "needs_background": "light"
     },
     "output_type": "display_data"
    },
    {
     "name": "stdout",
     "output_type": "stream",
     "text": [
      "For n_clusters = 5 The average silhouette_score is : 0.46028131794327337\n"
     ]
    },
    {
     "data": {
      "image/png": "[encoded data removed]",
      "text/plain": [
       "<Figure size 432x288 with 1 Axes>"
      ]
     },
     "metadata": {
      "needs_background": "light"
     },
     "output_type": "display_data"
    },
    {
     "name": "stdout",
     "output_type": "stream",
     "text": [
      "For n_clusters = 6 The average silhouette_score is : 0.45875789837318587\n"
     ]
    },
    {
     "data": {
      "image/png": "[encoded data removed]",
      "text/plain": [
       "<Figure size 432x288 with 1 Axes>"
      ]
     },
     "metadata": {
      "needs_background": "light"
     },
     "output_type": "display_data"
    },
    {
     "name": "stdout",
     "output_type": "stream",
     "text": [
      "For n_clusters = 7 The average silhouette_score is : 0.4380775351882764\n"
     ]
    },
    {
     "data": {
      "image/png": "[encoded data removed]",
      "text/plain": [
       "<Figure size 432x288 with 1 Axes>"
      ]
     },
     "metadata": {
      "needs_background": "light"
     },
     "output_type": "display_data"
    },
    {
     "name": "stdout",
     "output_type": "stream",
     "text": [
      "For n_clusters = 8 The average silhouette_score is : 0.4409836035197515\n"
     ]
    },
    {
     "data": {
      "image/png": "[encoded data removed]",
      "text/plain": [
       "<Figure size 432x288 with 1 Axes>"
      ]
     },
     "metadata": {
      "needs_background": "light"
     },
     "output_type": "display_data"
    }
   ],
   "source": [
    "import matplotlib.cm as cm\n",
    "from sklearn.metrics import silhouette_samples, silhouette_score\n",
    "\n",
    "range_n_clusters = [2, 3, 4, 5, 6, 7, 8]\n",
    "\n",
    "for n_clusters in range_n_clusters:  \n",
    "    # Initialize the clusterer with n_clusters value and a random generator\n",
    "    # seed of 10 for reproducibility.\n",
    "    km = KMeans(n_clusters=n_clusters, init ='k-means++',n_init=10,max_iter=300,random_state=0)\n",
    "    y_km = km.fit_predict(PCA_components.iloc[:,:2])\n",
    "    \n",
    "    cluster_labels = np.unique(y_km)\n",
    "    \n",
    "    # The silhouette_score gives the average value for all the samples.\n",
    "    # This gives a perspective into the density and separation of the formed\n",
    "    # clusters\n",
    "    silhouette_avg = silhouette_score(PCA_components.iloc[:,:2], y_km)\n",
    "    print(\"For n_clusters =\", n_clusters,\n",
    "          \"The average silhouette_score is :\", silhouette_avg)\n",
    "    \n",
    "    silhouette_vals = silhouette_samples(PCA_components.iloc[:,:2],y_km,metric='euclidean')\n",
    "    \n",
    "    silh(silhouette_vals,y_km)"
   ]
  },
  {
   "cell_type": "code",
   "execution_count": null,
   "metadata": {},
   "outputs": [],
   "source": []
  }
 ],
 "metadata": {
  "kernelspec": {
   "display_name": "Python 3",
   "language": "python",
   "name": "python3"
  },
  "language_info": {
   "codemirror_mode": {
    "name": "ipython",
    "version": 3
   },
   "file_extension": ".py",
   "mimetype": "text/x-python",
   "name": "python",
   "nbconvert_exporter": "python",
   "pygments_lexer": "ipython3",
   "version": "3.7.4"
  }
 },
 "nbformat": 4,
 "nbformat_minor": 2
}
